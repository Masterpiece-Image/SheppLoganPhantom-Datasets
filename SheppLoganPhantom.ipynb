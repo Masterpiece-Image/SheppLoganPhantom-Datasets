{
 "cells": [
  {
   "cell_type": "markdown",
   "metadata": {},
   "source": [
    "# Shepp Logan Phantom Datasets"
   ]
  },
  {
   "cell_type": "markdown",
   "metadata": {},
   "source": [
    "```bash\n",
    "python3 -m venv venv\n",
    "source ./venv/bin/activate\n",
    "pip install -U git+https://github.com/Masterpiece-Image/Artifactors.git\n",
    "pip install -U git+https://github.com/Masterpiece-Image/lasp.git\n",
    "```"
   ]
  },
  {
   "cell_type": "code",
   "execution_count": 6,
   "metadata": {},
   "outputs": [],
   "source": [
    "import numpy\n",
    "import numpy.random\n",
    "import random\n",
    "import matplotlib.pyplot\n",
    "import typing\n",
    "import pathlib"
   ]
  },
  {
   "cell_type": "code",
   "execution_count": 7,
   "metadata": {},
   "outputs": [],
   "source": [
    "from Artifactors.generator import \\\n",
    "    (\n",
    "        add_artifacts_with_quantization,\n",
    "        add_artifacts_with_svd\n",
    "    )\n",
    "\n",
    "from lasp.noise import additive_white_gaussian_noise as awgn"
   ]
  },
  {
   "cell_type": "code",
   "execution_count": 8,
   "metadata": {},
   "outputs": [],
   "source": [
    "DATASET_PATH = pathlib.Path('./shepp_logan_phantom')\n",
    "ARTIFACTS = DATASET_PATH / 'Artifacts'\n",
    "RESULTS = DATASET_PATH / 'Results'\n",
    "\n",
    "if not DATASET_PATH.exists():\n",
    "    DATASET_PATH.mkdir()\n",
    "    ARTIFACTS.mkdir()\n",
    "    RESULTS.mkdir()"
   ]
  },
  {
   "cell_type": "code",
   "execution_count": 9,
   "metadata": {},
   "outputs": [],
   "source": [
    "def make_patch_noised(\n",
    "    image: numpy.ndarray, \n",
    "    start_point: tuple[int, int], \n",
    "    patch_dim: tuple[int, int],\n",
    "    method: typing.Callable[[numpy.ndarray], numpy.ndarray]\n",
    ") -> numpy.ndarray :\n",
    "\n",
    "    a, b = image.shape\n",
    "    x, y = start_point\n",
    "    u, v = patch_dim\n",
    "    patch = image[x:min(x+u, a), y:min(y+v, b)]\n",
    "\n",
    "    patch = method(patch)\n",
    "\n",
    "    return image"
   ]
  },
  {
   "cell_type": "code",
   "execution_count": 10,
   "metadata": {},
   "outputs": [
    {
     "data": {
      "image/png": "[encoded data removed]",
      "text/plain": [
       "<Figure size 640x480 with 1 Axes>"
      ]
     },
     "metadata": {},
     "output_type": "display_data"
    }
   ],
   "source": [
    "phantom = numpy.array(numpy.load('phantom.npy'))\n",
    "x_lim, y_lim = phantom.shape\n",
    "matplotlib.pyplot.axis('off')\n",
    "matplotlib.pyplot.imshow(phantom, cmap='gray')\n",
    "matplotlib.pyplot.imsave('phantom.png', phantom, cmap='gray')\n",
    "matplotlib.pyplot.show()"
   ]
  },
  {
   "cell_type": "markdown",
   "metadata": {},
   "source": [
    "## PATCH METHOD"
   ]
  },
  {
   "cell_type": "markdown",
   "metadata": {},
   "source": [
    "### Quantization"
   ]
  },
  {
   "cell_type": "code",
   "execution_count": null,
   "metadata": {},
   "outputs": [],
   "source": [
    "# Generation parameters\n",
    "NUMBER_SAMPLE = 100\n",
    "MAX_PATCH_SIZE = 50\n",
    "INTENSITY_MIN = 0\n",
    "INTENSITY_MAX = 99\n",
    "\n",
    "# Noise parameters\n",
    "PERCENT_AWGN = 0.5 # %\n",
    "SNR_MIN = 0 # dB\n",
    "SNR_MAX = 30 # dB\n",
    "\n",
    "\n",
    "nb_awgn = int(PERCENT_AWGN*NUMBER_SAMPLE)\n",
    "\n",
    "for i in range(0, NUMBER_SAMPLE):\n",
    "    \n",
    "    copy = numpy.copy(phantom)\n",
    "\n",
    "    # Rect\n",
    "    u, v = numpy.random.randint(0, MAX_PATCH_SIZE, size=2)\n",
    "    x = numpy.random.randint(0, x_lim-1-u)\n",
    "    y = numpy.random.randint(0, y_lim-1-v)\n",
    "\n",
    "    # # Square\n",
    "    # u = numpy.random.randint(0, MAX_PATCH_SIZE)\n",
    "    # v = u\n",
    "    # x = numpy.random.randint(0, x_lim-1-u)\n",
    "    # y = numpy.random.randint(0, y_lim-1-u)\n",
    "\n",
    "    intensity = random.randint(INTENSITY_MIN, INTENSITY_MAX)\n",
    "    lambda_method = lambda image : add_artifacts_with_quantization(image, intensity)\n",
    "\n",
    "    copy = make_patch_noised(copy, start_point=(x, y), patch_dim=(u, v), method=lambda_method)\n",
    "\n",
    "    name = 'quant_patch_{}_{}'.format(i, intensity) \n",
    "\n",
    "    if i < nb_awgn:\n",
    "        snr = numpy.random.randint(SNR_MIN, SNR_MAX)\n",
    "        copy = awgn(copy, snr)\n",
    "        name = name+'_{}'.format(snr)\n",
    "\n",
    "    # # Save with numpy\n",
    "    # numpy.save(ARTIFACTS / name, copy)\n",
    "    # numpy.save(RESULTS / name, copy)\n",
    "\n",
    "    # Save with matplot\n",
    "    name = name+'.png'\n",
    "    matplotlib.pyplot.imsave(ARTIFACTS / name, copy, cmap='gray')\n",
    "    matplotlib.pyplot.imsave(RESULTS / name, phantom, cmap='gray')"
   ]
  },
  {
   "cell_type": "markdown",
   "metadata": {},
   "source": [
    "### SVD"
   ]
  },
  {
   "cell_type": "code",
   "execution_count": null,
   "metadata": {},
   "outputs": [],
   "source": [
    "# Generation parameters\n",
    "NUMBER_SAMPLE = 100\n",
    "MAX_PATCH_SIZE = 50\n",
    "INTENSITY_MIN = 0\n",
    "INTENSITY_MAX = 0.5\n",
    "\n",
    "# Noise parameters\n",
    "PERCENT_AWGN = 0.5 # %\n",
    "SNR_MIN = 0 # dB\n",
    "SNR_MAX = 30 # dB\n",
    "\n",
    "\n",
    "nb_awgn = int(PERCENT_AWGN*NUMBER_SAMPLE)\n",
    "\n",
    "for i in range(0, NUMBER_SAMPLE):\n",
    "    \n",
    "    copy = numpy.copy(phantom)\n",
    "\n",
    "    # Rect\n",
    "    u, v = numpy.random.randint(0, MAX_PATCH_SIZE, size=2)\n",
    "    x = numpy.random.randint(0, x_lim-1-u)\n",
    "    y = numpy.random.randint(0, y_lim-1-v)\n",
    "\n",
    "    # # Square\n",
    "    # u = numpy.random.randint(0, MAX_PATCH_SIZE)\n",
    "    # v = u\n",
    "    # x = numpy.random.randint(0, x_lim-1-u)\n",
    "    # y = numpy.random.randint(0, y_lim-1-u)\n",
    "\n",
    "    intensity = random.uniform(INTENSITY_MIN, INTENSITY_MAX)\n",
    "    lambda_method = lambda image : add_artifacts_with_svd(image, intensity)\n",
    "\n",
    "    copy = make_patch_noised(copy, start_point=(x, y), patch_dim=(u, v), method=lambda_method)\n",
    "\n",
    "    name = 'svd_patch_{}_{}'.format(i, intensity) \n",
    "\n",
    "    if i < nb_awgn:\n",
    "        snr = numpy.random.randint(SNR_MIN, SNR_MAX)\n",
    "        copy = awgn(copy, snr)\n",
    "        name = name+'_{}'.format(snr)\n",
    "\n",
    "    # # Save with numpy\n",
    "    # numpy.save(ARTIFACTS / name, copy)\n",
    "    # numpy.save(RESULTS / name, copy)\n",
    "\n",
    "    # Save with matplot\n",
    "    name = name+'.png'\n",
    "    matplotlib.pyplot.imsave(ARTIFACTS / name, copy, cmap='gray')\n",
    "    matplotlib.pyplot.imsave(RESULTS / name, phantom, cmap='gray')"
   ]
  },
  {
   "cell_type": "markdown",
   "metadata": {},
   "source": [
    "## Whole image"
   ]
  },
  {
   "cell_type": "markdown",
   "metadata": {},
   "source": [
    "### Quantization"
   ]
  },
  {
   "cell_type": "code",
   "execution_count": null,
   "metadata": {},
   "outputs": [],
   "source": [
    "# Generation parameters\n",
    "NUMBER_SAMPLE = 100\n",
    "INTENSITY_MIN = 0\n",
    "INTENSITY_MAX = 99\n",
    "\n",
    "\n",
    "# Noise parameters\n",
    "PERCENT_AWGN = 0.5 # %\n",
    "SNR_MIN = 0 # dB\n",
    "SNR_MAX = 30 # dB\n",
    "\n",
    "\n",
    "nb_awgn = int(PERCENT_AWGN*NUMBER_SAMPLE)\n",
    "\n",
    "for i in range(0, NUMBER_SAMPLE):\n",
    "\n",
    "    copy = numpy.copy(phantom)\n",
    "    intensity = random.uniform(INTENSITY_MIN, INTENSITY_MAX)\n",
    "    copy = add_artifacts_with_quantization(copy, intensity)\n",
    "\n",
    "    name = 'quant_{}_{}'.format(i, intensity) \n",
    "    # if i < nb_awgn:\n",
    "    #     snr = numpy.random.randint(SNR_MIN, SNR_MAX)\n",
    "    #     copy = awgn(copy, snr)\n",
    "    #     name = name+'_{}'.format(snr)\n",
    "\n",
    "    # # Save with numpy\n",
    "    # numpy.save(ARTIFACTS / name, copy)\n",
    "    # numpy.save(RESULTS / name, copy)\n",
    "\n",
    "    # Save with matplot\n",
    "    name = name+'.png'\n",
    "    matplotlib.pyplot.imsave(ARTIFACTS / name, copy, cmap='gray')\n",
    "    matplotlib.pyplot.imsave(RESULTS / name, phantom, cmap='gray')"
   ]
  },
  {
   "cell_type": "markdown",
   "metadata": {},
   "source": [
    "### SVD"
   ]
  },
  {
   "cell_type": "code",
   "execution_count": 11,
   "metadata": {},
   "outputs": [],
   "source": [
    "NUMBER_SAMPLE = 5\n",
    "INTENSITY_MIN = 0.\n",
    "INTENSITY_MAX = 0.3\n",
    "\n",
    "# Noise parameters\n",
    "PERCENT_AWGN = 0.5 # %\n",
    "SNR_MIN = 0 # dB\n",
    "SNR_MAX = 30 # dB\n",
    "\n",
    "\n",
    "nb_awgn = int(PERCENT_AWGN*NUMBER_SAMPLE)\n",
    "\n",
    "for i in range(0, NUMBER_SAMPLE):\n",
    "\n",
    "    copy = numpy.copy(phantom)\n",
    "    intensity =  random.uniform(INTENSITY_MIN, INTENSITY_MAX)\n",
    "    copy = add_artifacts_with_svd(copy, intensity)\n",
    "    \n",
    "    name = 'svd_{}_{}'.format(i, intensity) \n",
    "    if i < nb_awgn:\n",
    "        snr = numpy.random.randint(SNR_MIN, SNR_MAX)\n",
    "        copy = awgn(copy, snr)\n",
    "        name = name+'_{}'.format(snr)\n",
    "\n",
    "    # # Save with numpy\n",
    "    # numpy.save(ARTIFACTS / name, copy)\n",
    "    # numpy.save(RESULTS / name, copy)\n",
    "\n",
    "    # Save with matplot\n",
    "    name = name+'.png'\n",
    "    matplotlib.pyplot.imsave(ARTIFACTS / name, copy, cmap='gray')\n",
    "    matplotlib.pyplot.imsave(RESULTS / name, phantom, cmap='gray')"
   ]
  },
  {
   "cell_type": "code",
   "execution_count": null,
   "metadata": {},
   "outputs": [],
   "source": []
  }
 ],
 "metadata": {
  "interpreter": {
   "hash": "5e117e661d51e8b596f52f1857ebf564e7bdb26c2f010ec07598fb45270052a4"
  },
  "kernelspec": {
   "display_name": "Python 3.9.13 ('venv': venv)",
   "language": "python",
   "name": "python3"
  },
  "language_info": {
   "codemirror_mode": {
    "name": "ipython",
    "version": 3
   },
   "file_extension": ".py",
   "mimetype": "text/x-python",
   "name": "python",
   "nbconvert_exporter": "python",
   "pygments_lexer": "ipython3",
   "version": "3.9.13"
  },
  "orig_nbformat": 4
 },
 "nbformat": 4,
 "nbformat_minor": 2
}
